{
 "cells": [
  {
   "cell_type": "markdown",
   "id": "a82d14c7",
   "metadata": {},
   "source": [
    "# Mini projet"
   ]
  },
  {
   "cell_type": "markdown",
   "id": "c65ce831",
   "metadata": {},
   "source": [
    "## Import"
   ]
  },
  {
   "cell_type": "code",
   "execution_count": 2,
   "id": "8e241931",
   "metadata": {},
   "outputs": [],
   "source": [
    "import math \n",
    "import numpy as np \n",
    "from sklearn import linear_model \n",
    "from os import mkdir \n",
    "import seaborn as sns\n",
    "import matplotlib.pyplot as plt\n",
    "import pandas as pd\n",
    "import scipy"
   ]
  },
  {
   "cell_type": "markdown",
   "id": "5cc74674",
   "metadata": {},
   "source": [
    "# Exercice 1"
   ]
  },
  {
   "cell_type": "markdown",
   "id": "bd8475e5",
   "metadata": {},
   "source": [
    "## Question 1"
   ]
  },
  {
   "cell_type": "code",
   "execution_count": 3,
   "id": "002a4676",
   "metadata": {},
   "outputs": [
    {
     "name": "stdout",
     "output_type": "stream",
     "text": [
      "Index(['Date', 'Location', 'Cost (millions 2013US$)', 'INES',\n",
      "       'Smyth Magnitude', 'Region', 'Description', 'Fatalities'],\n",
      "      dtype='object')\n"
     ]
    }
   ],
   "source": [
    "df = pd.read_csv('/Users/jeanlucas/Documents/Telecom/2A/MDI/MDI220/Miniprojet/NuclearPowerAccidents2016.csv')\n",
    "print(df.columns)"
   ]
  },
  {
   "cell_type": "code",
   "execution_count": 4,
   "id": "bdcba040",
   "metadata": {},
   "outputs": [
    {
     "name": "stdout",
     "output_type": "stream",
     "text": [
      "0     1986-04-26\n",
      "1     2011-03-11\n",
      "2     1995-12-08\n",
      "3     1979-03-28\n",
      "4     1957-09-11\n",
      "         ...    \n",
      "211   1997-11-03\n",
      "212   1996-05-15\n",
      "213   1978-03-11\n",
      "214   1990-09-25\n",
      "215   1992-08-02\n",
      "Name: Date, Length: 216, dtype: datetime64[ns]\n"
     ]
    }
   ],
   "source": [
    "df['Date']=pd.to_datetime(df['Date'])\n",
    "#df['Date'].rename(columns={'Cost (millions 2013US$)': 'Cost'})\n",
    "print(df['Date'])"
   ]
  },
  {
   "cell_type": "code",
   "execution_count": 12,
   "id": "a4d22a69",
   "metadata": {},
   "outputs": [
    {
     "name": "stdout",
     "output_type": "stream",
     "text": [
      "(175, 9)\n",
      "(175, 10)\n",
      "False    120\n",
      "True      55\n",
      "dtype: int64\n",
      "(175,)\n",
      "(55,)\n"
     ]
    }
   ],
   "source": [
    "date0=pd.to_datetime(pd.DataFrame(['03/28/1979'])[0])\n",
    "\n",
    "\n",
    "print(df.shape)\n",
    "df = df.dropna(subset=['Cost (millions 2013US$)']).reset_index()\n",
    "print(df.shape)\n",
    "\n",
    "n,m=df.shape\n",
    "date1= [date0 for k in range(n)]\n",
    "date1= pd.DataFrame(date1,index=[k for k in range(n)])\n",
    "\n",
    "\n",
    "s= df['Date']<date1[0]\n",
    "print(s.value_counts())\n",
    "\n",
    "costs = df['Cost (millions 2013US$)']\n",
    "print(costs.shape)\n",
    "costs_filtered= costs[s]\n",
    "print(costs_filtered.shape)\n"
   ]
  },
  {
   "cell_type": "code",
   "execution_count": 14,
   "id": "4d11510b",
   "metadata": {},
   "outputs": [
    {
     "name": "stdout",
     "output_type": "stream",
     "text": [
      "4      8189.0\n",
      "5      4400.0\n",
      "6      3500.0\n",
      "7      2900.0\n",
      "8      2500.0\n",
      "10     1964.5\n",
      "11     1900.0\n",
      "12     1733.4\n",
      "13     1500.0\n",
      "14     1330.0\n",
      "15     1300.0\n",
      "17     1100.0\n",
      "18     1100.0\n",
      "21      990.0\n",
      "24      800.0\n",
      "25      793.9\n",
      "26      788.4\n",
      "29      541.4\n",
      "30      511.5\n",
      "33      425.2\n",
      "38      277.1\n",
      "41      180.0\n",
      "44      150.0\n",
      "52      100.0\n",
      "53      100.0\n",
      "54       99.5\n",
      "55       98.0\n",
      "56       89.9\n",
      "58       87.7\n",
      "60       84.5\n",
      "62       77.0\n",
      "70       60.1\n",
      "73       52.4\n",
      "86       38.0\n",
      "87       37.5\n",
      "95       25.7\n",
      "96       25.7\n",
      "101      17.1\n",
      "103      16.1\n",
      "106      15.0\n",
      "108      13.9\n",
      "115      11.8\n",
      "121      11.4\n",
      "130       6.1\n",
      "135       4.4\n",
      "157       1.2\n",
      "158       1.1\n",
      "161       0.0\n",
      "162       0.0\n",
      "163       0.0\n",
      "164       0.0\n",
      "165       0.0\n",
      "166       0.0\n",
      "167       0.0\n",
      "168       0.0\n",
      "Name: Cost (millions 2013US$), dtype: float64\n"
     ]
    }
   ],
   "source": [
    "print(costs_filtered)"
   ]
  },
  {
   "cell_type": "code",
   "execution_count": 11,
   "id": "54034ac6",
   "metadata": {
    "scrolled": true
   },
   "outputs": [
    {
     "name": "stdout",
     "output_type": "stream",
     "text": [
      "    index  Cost (millions 2013US$)\n",
      "0       4                   8189.0\n",
      "1       5                   4400.0\n",
      "2       6                   3500.0\n",
      "3       7                   2900.0\n",
      "4       8                   2500.0\n",
      "5      10                   1964.5\n",
      "6      11                   1900.0\n",
      "7      12                   1733.4\n",
      "8      13                   1500.0\n",
      "9      14                   1330.0\n",
      "10     15                   1300.0\n",
      "11     17                   1100.0\n",
      "12     18                   1100.0\n",
      "13     21                    990.0\n",
      "14     24                    800.0\n",
      "15     25                    793.9\n",
      "16     26                    788.4\n",
      "17     29                    541.4\n",
      "18     30                    511.5\n",
      "19     33                    425.2\n",
      "20     38                    277.1\n",
      "21     41                    180.0\n",
      "22     44                    150.0\n",
      "23     52                    100.0\n",
      "24     53                    100.0\n",
      "25     54                     99.5\n",
      "26     55                     98.0\n",
      "27     56                     89.9\n",
      "28     58                     87.7\n",
      "29     60                     84.5\n",
      "30     62                     77.0\n",
      "31     70                     60.1\n",
      "32     73                     52.4\n",
      "33     86                     38.0\n",
      "34     87                     37.5\n",
      "35     95                     25.7\n",
      "36     96                     25.7\n",
      "37    101                     17.1\n",
      "38    103                     16.1\n",
      "39    106                     15.0\n",
      "40    108                     13.9\n",
      "41    115                     11.8\n",
      "42    121                     11.4\n",
      "43    130                      6.1\n",
      "44    135                      4.4\n",
      "45    157                      1.2\n",
      "46    158                      1.1\n",
      "47    161                      0.0\n",
      "48    162                      0.0\n",
      "49    163                      0.0\n",
      "50    164                      0.0\n",
      "51    165                      0.0\n",
      "52    166                      0.0\n",
      "53    167                      0.0\n",
      "54    168                      0.0\n"
     ]
    }
   ],
   "source": [
    "print(costs_filtered.reset_index())"
   ]
  },
  {
   "cell_type": "markdown",
   "id": "c66faf7b",
   "metadata": {},
   "source": [
    "## Question 2"
   ]
  },
  {
   "cell_type": "markdown",
   "id": "8b135e46",
   "metadata": {},
   "source": [
    "![](images/ex1-2a.png)"
   ]
  },
  {
   "cell_type": "code",
   "execution_count": 175,
   "id": "f1364c98",
   "metadata": {},
   "outputs": [
    {
     "data": {
      "image/png": "[encoded data removed]",
      "text/plain": [
       "<Figure size 1296x864 with 1 Axes>"
      ]
     },
     "metadata": {
      "needs_background": "light"
     },
     "output_type": "display_data"
    }
   ],
   "source": [
    "plt.rcParams[\"figure.figsize\"] = (18,12)\n",
    "\n",
    "x = plt.subplot(224)\n",
    "data = costs_filtered\n",
    "res = scipy.stats.probplot(data, plot=plt)"
   ]
  },
  {
   "cell_type": "markdown",
   "id": "4d452613",
   "metadata": {},
   "source": [
    "## Question 3"
   ]
  },
  {
   "cell_type": "markdown",
   "id": "4683aa67",
   "metadata": {},
   "source": [
    "![](images/ex1-3a.png)"
   ]
  },
  {
   "cell_type": "code",
   "execution_count": 148,
   "id": "6d77c128",
   "metadata": {
    "scrolled": true
   },
   "outputs": [
    {
     "data": {
      "image/png": "[encoded data removed]",
      "text/plain": [
       "<Figure size 1296x864 with 1 Axes>"
      ]
     },
     "metadata": {
      "needs_background": "light"
     },
     "output_type": "display_data"
    }
   ],
   "source": [
    "x = plt.subplot(224)\n",
    "data = costs_filtered\n",
    "res = scipy.stats.probplot(data, plot=plt,dist=scipy.stats.expon)\n"
   ]
  },
  {
   "cell_type": "markdown",
   "id": "5cce494f",
   "metadata": {},
   "source": [
    "C'est clairement la loi exponentielle qui se rapproche le plus de notre cas, on remarque cependant des écarts de plus en plus grand avec la théorie pour des valeurs théorique des quantiles assez grandes."
   ]
  },
  {
   "cell_type": "markdown",
   "id": "403a2177",
   "metadata": {},
   "source": [
    "# Exercice 2"
   ]
  },
  {
   "cell_type": "markdown",
   "id": "1a7c0458",
   "metadata": {},
   "source": [
    "## Question 1"
   ]
  },
  {
   "cell_type": "markdown",
   "id": "748ee49e",
   "metadata": {},
   "source": [
    "![](images/ex2-1.png)"
   ]
  },
  {
   "cell_type": "code",
   "execution_count": 184,
   "id": "f1ca4aeb",
   "metadata": {},
   "outputs": [
    {
     "name": "stdout",
     "output_type": "stream",
     "text": [
      "lambda is equal to 0.0013767725947156965\n"
     ]
    }
   ],
   "source": [
    "print(\"lambda is equal to\", 1/costs_filtered.values.mean())"
   ]
  },
  {
   "cell_type": "markdown",
   "id": "5b0ab876",
   "metadata": {},
   "source": [
    "## Question 2"
   ]
  },
  {
   "cell_type": "code",
   "execution_count": 149,
   "id": "e0d2558a",
   "metadata": {},
   "outputs": [
    {
     "data": {
      "image/png": "[encoded data removed]",
      "text/plain": [
       "<Figure size 1296x864 with 1 Axes>"
      ]
     },
     "metadata": {
      "needs_background": "light"
     },
     "output_type": "display_data"
    }
   ],
   "source": [
    "lambd = 1/np.mean(costs_filtered)\n",
    "x=np.arange(0,8000,8000/len(costs_filtered))\n",
    "L = [lambd * np.exp(-lambd*k) for k in x]\n",
    "plt.clf()\n",
    "plt.hist(costs_filtered, density=  True)\n",
    "plt.plot(x,L)\n",
    "plt.show()"
   ]
  },
  {
   "cell_type": "markdown",
   "id": "6b6aa819",
   "metadata": {},
   "source": [
    "## Question 3"
   ]
  },
  {
   "cell_type": "markdown",
   "id": "5cd603d1",
   "metadata": {},
   "source": [
    "![](images/ex2-3.png)"
   ]
  },
  {
   "cell_type": "markdown",
   "id": "51219e59",
   "metadata": {},
   "source": [
    "## Question 4"
   ]
  },
  {
   "cell_type": "code",
   "execution_count": 18,
   "id": "39d1d0c0",
   "metadata": {},
   "outputs": [
    {
     "data": {
      "text/plain": [
       "0.0013767725947156967"
      ]
     },
     "execution_count": 18,
     "metadata": {},
     "output_type": "execute_result"
    }
   ],
   "source": [
    "#g1(lambda) vaut:\n",
    "1/np.mean(costs_filtered)"
   ]
  },
  {
   "cell_type": "markdown",
   "id": "75f07d16",
   "metadata": {},
   "source": [
    "## Question 5"
   ]
  },
  {
   "cell_type": "markdown",
   "id": "65e220ab",
   "metadata": {},
   "source": [
    "![](images/ex2-5-part1.png)\n",
    "![](images/ex2-5-part2.png)\n",
    "![](images/ex2-5-part3.png)"
   ]
  },
  {
   "cell_type": "markdown",
   "id": "dd74803e",
   "metadata": {},
   "source": [
    "## Question 6"
   ]
  },
  {
   "cell_type": "code",
   "execution_count": 180,
   "id": "1f7c0ad4",
   "metadata": {},
   "outputs": [
    {
     "name": "stdout",
     "output_type": "stream",
     "text": [
      "503.45800259270857\n",
      "89.9\n"
     ]
    }
   ],
   "source": [
    "#L'estimateur vaut:\n",
    "print(np.log(2)*np.mean(costs_filtered))\n",
    "\n",
    "#médiane empirique:\n",
    "\n",
    "costs_sorted = costs_filtered.tolist().sort()\n",
    "print(sorted(costs_filtered.tolist())[len(costs_filtered)//2])\n",
    "#print(costs_sorted[len(costs_sorted)//2])\n",
    "\n",
    "# --> on observe une différence conséquente liée aux limites du modèle employé"
   ]
  },
  {
   "cell_type": "markdown",
   "id": "7e80fe8d",
   "metadata": {},
   "source": [
    "## Question 7"
   ]
  },
  {
   "cell_type": "markdown",
   "id": "9d4e9f92",
   "metadata": {},
   "source": [
    "![](images/ex2-7.png)"
   ]
  },
  {
   "cell_type": "markdown",
   "id": "2d8ceef6",
   "metadata": {},
   "source": [
    "# Exercice 3"
   ]
  },
  {
   "cell_type": "markdown",
   "id": "379b657c",
   "metadata": {},
   "source": [
    "### Question 1"
   ]
  },
  {
   "cell_type": "markdown",
   "id": "7671eb13",
   "metadata": {},
   "source": [
    "![](images/ex3-1.png)"
   ]
  },
  {
   "cell_type": "markdown",
   "id": "44f20727",
   "metadata": {},
   "source": [
    "### Question 2"
   ]
  },
  {
   "cell_type": "markdown",
   "id": "70f25e61",
   "metadata": {},
   "source": [
    "![](images/ex3-2.png)"
   ]
  },
  {
   "cell_type": "markdown",
   "id": "36755feb",
   "metadata": {},
   "source": [
    "### Question 3"
   ]
  },
  {
   "cell_type": "markdown",
   "id": "851180a9",
   "metadata": {},
   "source": [
    "![](images/ex3-3.png)"
   ]
  },
  {
   "cell_type": "markdown",
   "id": "22395d89",
   "metadata": {},
   "source": [
    "### Question 3: suite et code"
   ]
  },
  {
   "cell_type": "code",
   "execution_count": 80,
   "id": "8e50d5ac",
   "metadata": {},
   "outputs": [],
   "source": [
    "alpha=0.05\n",
    "n=len(x)\n",
    "lambd = np.arange(0,1,1/1000)[1:]\n",
    "F=[]\n",
    "\n",
    "for l in lambd:\n",
    "    add = sum([-np.exp((alpha-1)/l)*(1-alpha)**k/(l**(k)*np.math.factorial(k)) for k in range(n)])+1\n",
    "    F.append(add)\n"
   ]
  },
  {
   "cell_type": "code",
   "execution_count": 150,
   "id": "063435c9",
   "metadata": {},
   "outputs": [
    {
     "data": {
      "image/png": "[encoded data removed]",
      "text/plain": [
       "<Figure size 1296x864 with 1 Axes>"
      ]
     },
     "metadata": {
      "needs_background": "light"
     },
     "output_type": "display_data"
    }
   ],
   "source": [
    "plt.clf()\n",
    "plt.plot(F)\n",
    "plt.show()"
   ]
  },
  {
   "cell_type": "code",
   "execution_count": 187,
   "id": "4dca5014",
   "metadata": {},
   "outputs": [
    {
     "name": "stdout",
     "output_type": "stream",
     "text": [
      "Costs ( 39948.49999999999 ) are lower than the quantile of the experimental values ( 67383.01326778876 ) so H0 is accepted\n",
      "\n",
      " Finally, the p-value is:  0.9862825135767351\n"
     ]
    }
   ],
   "source": [
    "lam0 = 10**(-3)\n",
    "exp = np.random.gamma(n,1/lam0,5000)\n",
    "\n",
    "q = np.quantile(exp,0.95)\n",
    "if sum(costs_filtered)<=q:\n",
    "    print (\"Costs (\", sum(costs_filtered),\") are lower than the quantile of the experimental values (\",\n",
    "           q, \") so H0 is accepted\")\n",
    "else:\n",
    "    print (\"Costs (\", sum(costs_filtered),\") are higher than the quantile of the experimental values (\",\n",
    "           q, \") so H0 is rejected\")\n",
    "\n",
    "    \n",
    "print(\"\\n Finally, the p-value is: \", 1-scipy.stats.gamma.cdf(sum(costs_filtered),n,scale=1/lam0))\n"
   ]
  },
  {
   "cell_type": "markdown",
   "id": "5c446773",
   "metadata": {},
   "source": [
    "### Question 4"
   ]
  },
  {
   "cell_type": "markdown",
   "id": "9125dce2",
   "metadata": {},
   "source": [
    "![](images/ex3-4.png)"
   ]
  },
  {
   "cell_type": "code",
   "execution_count": 188,
   "id": "35287642",
   "metadata": {},
   "outputs": [
    {
     "name": "stdout",
     "output_type": "stream",
     "text": [
      "1225\n"
     ]
    },
    {
     "data": {
      "image/png": "[encoded data removed]",
      "text/plain": [
       "<Figure size 1296x864 with 1 Axes>"
      ]
     },
     "metadata": {
      "needs_background": "light"
     },
     "output_type": "display_data"
    }
   ],
   "source": [
    "t=np.linspace(0,2200,1000)\n",
    "n=55\n",
    "lam0=10**(-3)\n",
    "limit = math.floor(q/n)\n",
    "print(limit)\n",
    "f = scipy.stats.gamma.pdf(t,n,scale=1/(n*lam0))\n",
    "\n",
    "plt.clf()\n",
    "plt.plot(t,f, label='densité')\n",
    "plt.axvline(x=limit,color='orange', label='barriere de rejet')\n",
    "plt.legend()\n",
    "plt.show()"
   ]
  },
  {
   "cell_type": "markdown",
   "id": "797aa283",
   "metadata": {},
   "source": [
    "### Question 5"
   ]
  },
  {
   "cell_type": "code",
   "execution_count": 152,
   "id": "57d5f36d",
   "metadata": {
    "scrolled": true
   },
   "outputs": [
    {
     "data": {
      "image/png": "[encoded data removed]",
      "text/plain": [
       "<Figure size 1296x864 with 1 Axes>"
      ]
     },
     "metadata": {
      "needs_background": "light"
     },
     "output_type": "display_data"
    }
   ],
   "source": [
    "size=500\n",
    "lam = np.linspace(10**-5,10**-1.5,size)\n",
    "\n",
    "\n",
    "\n",
    "Ns = [10, 50, 100, 500, 100000]\n",
    "for n in Ns:\n",
    "    res = []\n",
    "    for l in lam:\n",
    "        exp = scipy.stats.gamma.rvs(n, scale = 1/l,  size = size)\n",
    "        lim = np.quantile(exp,0.95)\n",
    "        add = 1 - scipy.stats.gamma.cdf(costs_filtered.sum(), n, scale=1/l)\n",
    "        res.append(add)  \n",
    "    plt.plot(lam,res, label = n)\n",
    "    \n",
    "plt.legend()\n",
    "plt.show()"
   ]
  },
  {
   "cell_type": "markdown",
   "id": "c0dfa130",
   "metadata": {},
   "source": [
    "Nous pouvons constater que lorsque n croit, la puissance reste plus longtemps égale (ou presque) à 1."
   ]
  },
  {
   "cell_type": "markdown",
   "id": "7e9a0cb7",
   "metadata": {},
   "source": [
    "### Question 6"
   ]
  },
  {
   "cell_type": "markdown",
   "id": "b29581d2",
   "metadata": {},
   "source": [
    "![](images/ex3-6.png)"
   ]
  },
  {
   "cell_type": "code",
   "execution_count": 140,
   "id": "db46d3f8",
   "metadata": {},
   "outputs": [
    {
     "name": "stdout",
     "output_type": "stream",
     "text": [
      "Y ( -0.0008654004036731705 ) is lower than the quantile of the experimental values ( 1.6681766191065321 ) so H0 is accepted\n"
     ]
    }
   ],
   "source": [
    "exp = scipy.stats.norm.rvs(size = 10000)\n",
    "qlim = np.quantile(exp,0.95)\n",
    "\n",
    "if (qlim > (costs_filtered.mean()-1/lam0) * (lam0) * np.sqrt(n) / n):\n",
    "    print (\"Y (\",(costs_filtered.mean()-1/lam0) * (lam0) * np.sqrt(n) / n ,\") is lower than the quantile of the experimental values (\",\n",
    "           qlim, \") so H0 is accepted\")\n",
    "else:\n",
    "    print (\"Y (\", (costs_filtered.mean()-1/lam0) * (lam0) * np.sqrt(n) / n,\") is higher than the quantile of the experimental values (\",\n",
    "           qlim, \") so H0 is rejected\")"
   ]
  },
  {
   "cell_type": "markdown",
   "id": "dd5f0e94",
   "metadata": {},
   "source": [
    "H0 is also accepted in this test"
   ]
  }
 ],
 "metadata": {
  "kernelspec": {
   "display_name": "Python 3 (ipykernel)",
   "language": "python",
   "name": "python3"
  },
  "language_info": {
   "codemirror_mode": {
    "name": "ipython",
    "version": 3
   },
   "file_extension": ".py",
   "mimetype": "text/x-python",
   "name": "python",
   "nbconvert_exporter": "python",
   "pygments_lexer": "ipython3",
   "version": "3.8.12"
  }
 },
 "nbformat": 4,
 "nbformat_minor": 5
}
