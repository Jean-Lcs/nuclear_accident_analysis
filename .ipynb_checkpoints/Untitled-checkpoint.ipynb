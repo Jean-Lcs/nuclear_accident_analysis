{
 "cells": [
  {
   "cell_type": "markdown",
   "id": "a82d14c7",
   "metadata": {},
   "source": [
    "# Mini projet"
   ]
  },
  {
   "cell_type": "markdown",
   "id": "c65ce831",
   "metadata": {},
   "source": [
    "## Import"
   ]
  },
  {
   "cell_type": "code",
   "execution_count": 38,
   "id": "8e241931",
   "metadata": {},
   "outputs": [],
   "source": [
    "import math \n",
    "import numpy as np \n",
    "from sklearn import linear_model \n",
    "from os import mkdir \n",
    "import seaborn as sns\n",
    "import matplotlib.pyplot as plt\n",
    "import pandas as pd\n",
    "import scipy"
   ]
  },
  {
   "cell_type": "markdown",
   "id": "bd8475e5",
   "metadata": {},
   "source": [
    "## Question 1"
   ]
  },
  {
   "cell_type": "code",
   "execution_count": 42,
   "id": "002a4676",
   "metadata": {},
   "outputs": [
    {
     "name": "stdout",
     "output_type": "stream",
     "text": [
      "Index(['Date', 'Location', 'Cost (millions 2013US$)', 'INES',\n",
      "       'Smyth Magnitude', 'Region', 'Description', 'Fatalities'],\n",
      "      dtype='object')\n"
     ]
    }
   ],
   "source": [
    "df = pd.read_csv('/Users/jeanlucas/Documents/Telecom/2A/MDI/MDI220/Miniprojet/NuclearPowerAccidents2016.csv')\n",
    "print(df.columns)"
   ]
  },
  {
   "cell_type": "code",
   "execution_count": 43,
   "id": "bdcba040",
   "metadata": {},
   "outputs": [
    {
     "name": "stdout",
     "output_type": "stream",
     "text": [
      "0     1986-04-26\n",
      "1     2011-03-11\n",
      "2     1995-12-08\n",
      "3     1979-03-28\n",
      "4     1957-09-11\n",
      "         ...    \n",
      "211   1997-11-03\n",
      "212   1996-05-15\n",
      "213   1978-03-11\n",
      "214   1990-09-25\n",
      "215   1992-08-02\n",
      "Name: Date, Length: 216, dtype: datetime64[ns]\n"
     ]
    }
   ],
   "source": [
    "df['Date']=pd.to_datetime(df['Date'])\n",
    "#df['Date'].rename(columns={'Cost (millions 2013US$)': 'Cost'})\n",
    "print(df['Date'])"
   ]
  },
  {
   "cell_type": "code",
   "execution_count": 44,
   "id": "a4d22a69",
   "metadata": {},
   "outputs": [
    {
     "name": "stdout",
     "output_type": "stream",
     "text": [
      "(216, 8)\n",
      "(175, 9)\n",
      "False    120\n",
      "True      55\n",
      "dtype: int64\n",
      "(175,)\n",
      "(55,)\n"
     ]
    }
   ],
   "source": [
    "date0=pd.to_datetime(pd.DataFrame(['03/28/1979'])[0])\n",
    "\n",
    "\n",
    "print(df.shape)\n",
    "df = df.dropna(subset=['Cost (millions 2013US$)']).reset_index()\n",
    "print(df.shape)\n",
    "\n",
    "n,m=df.shape\n",
    "date1= [date0 for k in range(n)]\n",
    "date1= pd.DataFrame(date1,index=[k for k in range(n)])\n",
    "\n",
    "\n",
    "s= df['Date']<date1[0]\n",
    "print(s.value_counts())\n",
    "\n",
    "costs = df['Cost (millions 2013US$)']\n",
    "print(costs.shape)\n",
    "costs_filtered= costs[s]\n",
    "print(costs_filtered.shape)\n"
   ]
  },
  {
   "cell_type": "code",
   "execution_count": 45,
   "id": "54034ac6",
   "metadata": {},
   "outputs": [
    {
     "name": "stdout",
     "output_type": "stream",
     "text": [
      "4      8189.0\n",
      "5      4400.0\n",
      "6      3500.0\n",
      "7      2900.0\n",
      "8      2500.0\n",
      "10     1964.5\n",
      "11     1900.0\n",
      "12     1733.4\n",
      "13     1500.0\n",
      "14     1330.0\n",
      "15     1300.0\n",
      "17     1100.0\n",
      "18     1100.0\n",
      "21      990.0\n",
      "24      800.0\n",
      "25      793.9\n",
      "26      788.4\n",
      "29      541.4\n",
      "30      511.5\n",
      "33      425.2\n",
      "38      277.1\n",
      "41      180.0\n",
      "44      150.0\n",
      "52      100.0\n",
      "53      100.0\n",
      "54       99.5\n",
      "55       98.0\n",
      "56       89.9\n",
      "58       87.7\n",
      "60       84.5\n",
      "62       77.0\n",
      "70       60.1\n",
      "73       52.4\n",
      "86       38.0\n",
      "87       37.5\n",
      "95       25.7\n",
      "96       25.7\n",
      "101      17.1\n",
      "103      16.1\n",
      "106      15.0\n",
      "108      13.9\n",
      "115      11.8\n",
      "121      11.4\n",
      "130       6.1\n",
      "135       4.4\n",
      "157       1.2\n",
      "158       1.1\n",
      "161       0.0\n",
      "162       0.0\n",
      "163       0.0\n",
      "164       0.0\n",
      "165       0.0\n",
      "166       0.0\n",
      "167       0.0\n",
      "168       0.0\n",
      "Name: Cost (millions 2013US$), dtype: float64\n"
     ]
    },
    {
     "ename": "AttributeError",
     "evalue": "'NoneType' object has no attribute 'reset_index'",
     "output_type": "error",
     "traceback": [
      "\u001b[0;31m---------------------------------------------------------------------------\u001b[0m",
      "\u001b[0;31mAttributeError\u001b[0m                            Traceback (most recent call last)",
      "\u001b[0;32m<ipython-input-45-3993cbd11daf>\u001b[0m in \u001b[0;36m<module>\u001b[0;34m\u001b[0m\n\u001b[0;32m----> 1\u001b[0;31m \u001b[0mprint\u001b[0m\u001b[0;34m(\u001b[0m\u001b[0mcosts_filtered\u001b[0m\u001b[0;34m)\u001b[0m\u001b[0;34m.\u001b[0m\u001b[0mreset_index\u001b[0m\u001b[0;34m(\u001b[0m\u001b[0;34m)\u001b[0m\u001b[0;34m\u001b[0m\u001b[0;34m\u001b[0m\u001b[0m\n\u001b[0m",
      "\u001b[0;31mAttributeError\u001b[0m: 'NoneType' object has no attribute 'reset_index'"
     ]
    }
   ],
   "source": [
    "print(costs_filtered).reset_index()"
   ]
  },
  {
   "cell_type": "markdown",
   "id": "5cc74674",
   "metadata": {},
   "source": [
    "## Question 2"
   ]
  },
  {
   "cell_type": "code",
   "execution_count": null,
   "id": "edcbda08",
   "metadata": {},
   "outputs": [],
   "source": [
    "#voir photo"
   ]
  },
  {
   "cell_type": "code",
   "execution_count": 47,
   "id": "720bf27a",
   "metadata": {},
   "outputs": [
    {
     "data": {
      "text/plain": [
       "<function matplotlib.pyplot.show(close=None, block=None)>"
      ]
     },
     "execution_count": 47,
     "metadata": {},
     "output_type": "execute_result"
    },
    {
     "data": {
      "image/png": "[encoded data removed]",
      "text/plain": [
       "<Figure size 432x288 with 1 Axes>"
      ]
     },
     "metadata": {
      "needs_background": "light"
     },
     "output_type": "display_data"
    }
   ],
   "source": [
    "#b)\n",
    "u,sig=2,3\n",
    "x1,x2=0.25,0.75\n",
    "\n",
    "\n",
    "\n",
    "a= scipy.stats.probplot([x1,x2], sparams=(u,sig))\n",
    "b= scipy.stats.probplot([x1,x2], sparams=())\n",
    "Y= [a[0][0][0],a[0][0][1]]\n",
    "X= [b[0][0][0],b[0][0][1]]\n",
    "\n",
    "plt.clf()\n",
    "plt.plot(X,Y)\n",
    "plt.show"
   ]
  },
  {
   "cell_type": "code",
   "execution_count": 49,
   "id": "93d24df8",
   "metadata": {},
   "outputs": [
    {
     "data": {
      "image/png": "[encoded data removed]",
      "text/plain": [
       "<Figure size 432x288 with 1 Axes>"
      ]
     },
     "metadata": {
      "needs_background": "light"
     },
     "output_type": "display_data"
    }
   ],
   "source": [
    "x = plt.subplot(224)\n",
    "data = costs_filtered\n",
    "res = scipy.stats.probplot(data, plot=plt)"
   ]
  },
  {
   "cell_type": "markdown",
   "id": "4d452613",
   "metadata": {},
   "source": [
    "## Question 3"
   ]
  },
  {
   "cell_type": "code",
   "execution_count": null,
   "id": "7a07080a",
   "metadata": {},
   "outputs": [],
   "source": [
    "#Voir photo"
   ]
  },
  {
   "cell_type": "code",
   "execution_count": 54,
   "id": "b06e770b",
   "metadata": {
    "scrolled": true
   },
   "outputs": [
    {
     "data": {
      "image/png": "[encoded data removed]",
      "text/plain": [
       "<Figure size 432x288 with 1 Axes>"
      ]
     },
     "metadata": {
      "needs_background": "light"
     },
     "output_type": "display_data"
    }
   ],
   "source": [
    "x = plt.subplot(224)\n",
    "data = costs_filtered\n",
    "res = scipy.stats.probplot(data, plot=plt,dist=scipy.stats.expon)\n"
   ]
  },
  {
   "cell_type": "markdown",
   "id": "3bc5d1b8",
   "metadata": {},
   "source": [
    "C'est clairement la loi exponentielle qui se rapproche le plus de notre cas, on remarque cependant des écarts de plus en plus grand avec la théorie pour des valeurs théorique des quantiles assez grandes."
   ]
  },
  {
   "cell_type": "markdown",
   "id": "403a2177",
   "metadata": {},
   "source": [
    "# Exercice 2"
   ]
  },
  {
   "cell_type": "markdown",
   "id": "1a7c0458",
   "metadata": {},
   "source": [
    "## Question 1"
   ]
  },
  {
   "cell_type": "code",
   "execution_count": null,
   "id": "0cd4efc0",
   "metadata": {},
   "outputs": [],
   "source": [
    "#voir photo"
   ]
  },
  {
   "cell_type": "markdown",
   "id": "0bf2ed99",
   "metadata": {},
   "source": [
    "## Question 2"
   ]
  },
  {
   "cell_type": "code",
   "execution_count": 74,
   "id": "aa843515",
   "metadata": {},
   "outputs": [
    {
     "data": {
      "image/png": "[encoded data removed]",
      "text/plain": [
       "<Figure size 432x288 with 1 Axes>"
      ]
     },
     "metadata": {
      "needs_background": "light"
     },
     "output_type": "display_data"
    }
   ],
   "source": [
    "lambd = 1/np.mean(costs_filtered)\n",
    "x=np.arange(0,8000,8000/len(costs_filtered))\n",
    "L = [lambd * np.exp(-lambd*k) for k in x]\n",
    "plt.clf()\n",
    "plt.hist(costs_filtered, density=  True)\n",
    "plt.plot(x,L)\n",
    "plt.show()"
   ]
  },
  {
   "cell_type": "markdown",
   "id": "1a7c0458",
   "metadata": {},
   "source": [
    "## Question 3"
   ]
  },
  {
   "cell_type": "code",
   "execution_count": null,
   "id": "6a3e7e9c",
   "metadata": {},
   "outputs": [],
   "source": [
    "#voir photo"
   ]
  },
  {
   "cell_type": "markdown",
   "id": "1a7c0458",
   "metadata": {},
   "source": [
    "## Question 4"
   ]
  },
  {
   "cell_type": "code",
   "execution_count": 92,
   "id": "05882b2f",
   "metadata": {},
   "outputs": [
    {
     "data": {
      "text/plain": [
       "0.0013767725947156967"
      ]
     },
     "execution_count": 92,
     "metadata": {},
     "output_type": "execute_result"
    }
   ],
   "source": [
    "#g1(lambda) vaut:\n",
    "1/np.mean(costs_filtered)"
   ]
  },
  {
   "cell_type": "markdown",
   "id": "1a7c0458",
   "metadata": {},
   "source": [
    "## Question 5"
   ]
  },
  {
   "cell_type": "code",
   "execution_count": null,
   "id": "51f3a79e",
   "metadata": {},
   "outputs": [],
   "source": [
    "#voir photo"
   ]
  },
  {
   "cell_type": "markdown",
   "id": "dd74803e",
   "metadata": {},
   "source": [
    "## Question 6"
   ]
  },
  {
   "cell_type": "code",
   "execution_count": 91,
   "id": "1f7c0ad4",
   "metadata": {},
   "outputs": [
    {
     "name": "stdout",
     "output_type": "stream",
     "text": [
      "503.45800259270857\n",
      "89.9\n"
     ]
    }
   ],
   "source": [
    "#L'estimateur vaut:\n",
    "print(np.log(2)*np.mean(costs_filtered))\n",
    "\n",
    "#médiane empirique:\n",
    "\n",
    "costs_sorted = costs_filtered.tolist().sort()\n",
    "print(sorted(costs_filtered.tolist())[len(costs_filtered)//2])\n",
    "#print(costs_sorted[len(costs_sorted)//2])\n",
    "\n",
    "# --> on observe une différence conséquente liée aux limites du modèle employé"
   ]
  }
 ],
 "metadata": {
  "kernelspec": {
   "display_name": "Python 3",
   "language": "python",
   "name": "python3"
  },
  "language_info": {
   "codemirror_mode": {
    "name": "ipython",
    "version": 3
   },
   "file_extension": ".py",
   "mimetype": "text/x-python",
   "name": "python",
   "nbconvert_exporter": "python",
   "pygments_lexer": "ipython3",
   "version": "3.8.8"
  }
 },
 "nbformat": 4,
 "nbformat_minor": 5
}
